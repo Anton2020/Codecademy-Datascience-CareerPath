{
 "cells": [
  {
   "cell_type": "code",
   "execution_count": 97,
   "id": "f0e2605e",
   "metadata": {},
   "outputs": [],
   "source": [
    "import csv\n",
    "#age,sex,  bmi, children,smoker,region,   charges\n",
    "#19,female,27.9,0,       yes,   southwest,16884.924\n",
    "\n",
    "#prepare columns\n",
    "age_column = []\n",
    "sex_column = []\n",
    "bmi_column = []\n",
    "children_column = []\n",
    "smoker_column = []\n",
    "region_column = []\n",
    "charges_column = []\n",
    "\n",
    "#read in data\n",
    "with open(\"insurance.csv\") as dataset:\n",
    "    data = csv.reader(dataset)\n",
    "    \n",
    "    #Create columns without DictReader\n",
    "    for row in data:\n",
    "        age = row[0]\n",
    "        bmi = row[2]\n",
    "        children = row[3]\n",
    "        charges = row[6]\n",
    "        \n",
    "        #Check if row contains the desired column headers -> if yes, it's the first row\n",
    "        if row == [\"age\",\"sex\",\"bmi\",\"children\",\"smoker\",\"region\",\"charges\"]:\n",
    "            age_column.append(age)\n",
    "            bmi_column.append(bmi)\n",
    "            children_column.append(children)\n",
    "            charges_column.append(charges)\n",
    "        #Convert the other rows' values to Numbers\n",
    "        else: \n",
    "            age_column.append(int(age))\n",
    "            bmi_column.append(float(bmi))\n",
    "            children_column.append(int(children))\n",
    "            charges_column.append(float(charges))\n",
    "            \n",
    "        sex_column.append(row[1])\n",
    "        smoker_column.append(row[4]) \n",
    "        region_column.append(row[5])\n",
    "            "
   ]
  },
  {
   "cell_type": "code",
   "execution_count": null,
   "id": "78c6cdca",
   "metadata": {},
   "outputs": [],
   "source": [
    "#Testing it out\n",
    "print(children_column)"
   ]
  },
  {
   "cell_type": "code",
   "execution_count": 98,
   "id": "0900fd7f",
   "metadata": {},
   "outputs": [],
   "source": [
    "#What are the average insurance costs for an X-children household ?\n",
    "def count_insurance_cost_based_on_num_children(num_of_children):\n",
    "    with open(\"insurance.csv\") as dataset:\n",
    "    \n",
    "        data = csv.DictReader(dataset)\n",
    "        noc_count = 0\n",
    "        noc_total_charges = 0\n",
    "    \n",
    "        for row in data:\n",
    "            current_children = int(row['children'])\n",
    "            if current_children == num_of_children:\n",
    "                noc_count += 1\n",
    "                noc_total_charges +=  float(row['charges'])\n",
    "\n",
    "        if noc_count == 0:\n",
    "            return \"No patients were found with the queried number of kids\"\n",
    "        \n",
    "        if num_of_children == 0:\n",
    "            return f\"The average insurance costs for a household without kids is: {noc_total_charges / noc_count}\"\n",
    "        elif num_of_children == 1:\n",
    "            return f\"The average insurance costs for a {num_of_children} kid household is: {noc_total_charges / noc_count}\"\n",
    "        else:\n",
    "            return f\"The average insurance costs for a {num_of_children} kids household is: {noc_total_charges / noc_count}\"\n",
    "    \n"
   ]
  },
  {
   "cell_type": "code",
   "execution_count": 103,
   "id": "92c70b3e",
   "metadata": {},
   "outputs": [
    {
     "name": "stdout",
     "output_type": "stream",
     "text": [
      "The average insurance costs for a household without kids is: 12365.975601635882\n",
      "The average insurance costs for a 1 kid household is: 12731.171831635793\n",
      "The average insurance costs for a 2 kids household is: 15073.563733958328\n",
      "The average insurance costs for a 3 kids household is: 15355.31836681528\n",
      "The average insurance costs for a 4 kids household is: 13850.656311199999\n",
      "The average insurance costs for a 5 kids household is: 8786.035247222222\n"
     ]
    }
   ],
   "source": [
    "#Use the functions defined above. Each needs to have their own DictReader, otherwise noc_count is carried on\n",
    "#to the next function and keeps increasing, disrupting results.\n",
    "\n",
    "print(count_insurance_cost_based_on_num_children(0))\n",
    "print(count_insurance_cost_based_on_num_children(1))\n",
    "print(count_insurance_cost_based_on_num_children(2))\n",
    "print(count_insurance_cost_based_on_num_children(3))\n",
    "print(count_insurance_cost_based_on_num_children(4))\n",
    "print(count_insurance_cost_based_on_num_children(5))\n",
    "\n",
    "            "
   ]
  },
  {
   "cell_type": "code",
   "execution_count": null,
   "id": "13d4ab8c",
   "metadata": {},
   "outputs": [],
   "source": []
  }
 ],
 "metadata": {
  "kernelspec": {
   "display_name": "Python 3 (ipykernel)",
   "language": "python",
   "name": "python3"
  },
  "language_info": {
   "codemirror_mode": {
    "name": "ipython",
    "version": 3
   },
   "file_extension": ".py",
   "mimetype": "text/x-python",
   "name": "python",
   "nbconvert_exporter": "python",
   "pygments_lexer": "ipython3",
   "version": "3.9.0"
  }
 },
 "nbformat": 4,
 "nbformat_minor": 5
}
