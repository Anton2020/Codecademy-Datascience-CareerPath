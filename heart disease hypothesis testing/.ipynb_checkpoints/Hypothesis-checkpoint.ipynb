{
 "cells": [
  {
   "cell_type": "markdown",
   "id": "90e0dfac",
   "metadata": {},
   "source": [
    "[Hypothesis testing](https://www.codecademy.com/paths/data-science/tracks/dscp-hypothesis-testing/modules/dscp-testing-a-sample-statistic/projects/heart-disease-research-i)"
   ]
  },
  {
   "cell_type": "code",
   "execution_count": 1,
   "id": "59d82e05",
   "metadata": {},
   "outputs": [],
   "source": [
    "import numpy as np\n",
    "import pandas as pd"
   ]
  },
  {
   "cell_type": "code",
   "execution_count": 2,
   "id": "d15808bb",
   "metadata": {},
   "outputs": [],
   "source": [
    "heart = pd.read_csv('heart_disease.csv')\n",
    "yes_hd = heart[heart.heart_disease == 'presence']\n",
    "no_hd = heart[heart.heart_disease == 'absence']"
   ]
  },
  {
   "cell_type": "code",
   "execution_count": 4,
   "id": "f91d3263",
   "metadata": {},
   "outputs": [
    {
     "data": {
      "text/html": [
       "<div>\n",
       "<style scoped>\n",
       "    .dataframe tbody tr th:only-of-type {\n",
       "        vertical-align: middle;\n",
       "    }\n",
       "\n",
       "    .dataframe tbody tr th {\n",
       "        vertical-align: top;\n",
       "    }\n",
       "\n",
       "    .dataframe thead th {\n",
       "        text-align: right;\n",
       "    }\n",
       "</style>\n",
       "<table border=\"1\" class=\"dataframe\">\n",
       "  <thead>\n",
       "    <tr style=\"text-align: right;\">\n",
       "      <th></th>\n",
       "      <th>age</th>\n",
       "      <th>trestbps</th>\n",
       "      <th>chol</th>\n",
       "      <th>exang</th>\n",
       "      <th>fbs</th>\n",
       "      <th>thalach</th>\n",
       "    </tr>\n",
       "  </thead>\n",
       "  <tbody>\n",
       "    <tr>\n",
       "      <th>count</th>\n",
       "      <td>139.000000</td>\n",
       "      <td>139.000000</td>\n",
       "      <td>139.000000</td>\n",
       "      <td>139.000000</td>\n",
       "      <td>139.000000</td>\n",
       "      <td>139.000000</td>\n",
       "    </tr>\n",
       "    <tr>\n",
       "      <th>mean</th>\n",
       "      <td>56.625899</td>\n",
       "      <td>134.568345</td>\n",
       "      <td>251.474820</td>\n",
       "      <td>0.546763</td>\n",
       "      <td>0.158273</td>\n",
       "      <td>139.258993</td>\n",
       "    </tr>\n",
       "    <tr>\n",
       "      <th>std</th>\n",
       "      <td>7.938416</td>\n",
       "      <td>18.769019</td>\n",
       "      <td>49.486835</td>\n",
       "      <td>0.499609</td>\n",
       "      <td>0.366317</td>\n",
       "      <td>22.593233</td>\n",
       "    </tr>\n",
       "    <tr>\n",
       "      <th>min</th>\n",
       "      <td>35.000000</td>\n",
       "      <td>100.000000</td>\n",
       "      <td>131.000000</td>\n",
       "      <td>0.000000</td>\n",
       "      <td>0.000000</td>\n",
       "      <td>71.000000</td>\n",
       "    </tr>\n",
       "    <tr>\n",
       "      <th>25%</th>\n",
       "      <td>52.000000</td>\n",
       "      <td>120.000000</td>\n",
       "      <td>217.500000</td>\n",
       "      <td>0.000000</td>\n",
       "      <td>0.000000</td>\n",
       "      <td>125.000000</td>\n",
       "    </tr>\n",
       "    <tr>\n",
       "      <th>50%</th>\n",
       "      <td>58.000000</td>\n",
       "      <td>130.000000</td>\n",
       "      <td>249.000000</td>\n",
       "      <td>1.000000</td>\n",
       "      <td>0.000000</td>\n",
       "      <td>142.000000</td>\n",
       "    </tr>\n",
       "    <tr>\n",
       "      <th>75%</th>\n",
       "      <td>62.000000</td>\n",
       "      <td>145.000000</td>\n",
       "      <td>283.500000</td>\n",
       "      <td>1.000000</td>\n",
       "      <td>0.000000</td>\n",
       "      <td>156.500000</td>\n",
       "    </tr>\n",
       "    <tr>\n",
       "      <th>max</th>\n",
       "      <td>77.000000</td>\n",
       "      <td>200.000000</td>\n",
       "      <td>409.000000</td>\n",
       "      <td>1.000000</td>\n",
       "      <td>1.000000</td>\n",
       "      <td>195.000000</td>\n",
       "    </tr>\n",
       "  </tbody>\n",
       "</table>\n",
       "</div>"
      ],
      "text/plain": [
       "              age    trestbps        chol       exang         fbs     thalach\n",
       "count  139.000000  139.000000  139.000000  139.000000  139.000000  139.000000\n",
       "mean    56.625899  134.568345  251.474820    0.546763    0.158273  139.258993\n",
       "std      7.938416   18.769019   49.486835    0.499609    0.366317   22.593233\n",
       "min     35.000000  100.000000  131.000000    0.000000    0.000000   71.000000\n",
       "25%     52.000000  120.000000  217.500000    0.000000    0.000000  125.000000\n",
       "50%     58.000000  130.000000  249.000000    1.000000    0.000000  142.000000\n",
       "75%     62.000000  145.000000  283.500000    1.000000    0.000000  156.500000\n",
       "max     77.000000  200.000000  409.000000    1.000000    1.000000  195.000000"
      ]
     },
     "execution_count": 4,
     "metadata": {},
     "output_type": "execute_result"
    }
   ],
   "source": [
    "#1\n",
    "chol_hd = yes_hd['chol']\n",
    "chol_hd.head()\n",
    "yes_hd.describe()"
   ]
  },
  {
   "cell_type": "code",
   "execution_count": 5,
   "id": "cde18fb0",
   "metadata": {},
   "outputs": [
    {
     "name": "stdout",
     "output_type": "stream",
     "text": [
      "251.4748201438849\n"
     ]
    }
   ],
   "source": [
    "#2\n",
    "print(chol_hd.mean())"
   ]
  },
  {
   "cell_type": "code",
   "execution_count": 6,
   "id": "303eb7df",
   "metadata": {},
   "outputs": [],
   "source": [
    "#3\n",
    "from scipy.stats import ttest_1samp"
   ]
  },
  {
   "cell_type": "code",
   "execution_count": 7,
   "id": "b22745a4",
   "metadata": {},
   "outputs": [
    {
     "name": "stdout",
     "output_type": "stream",
     "text": [
      "0.0035411033905155707\n"
     ]
    }
   ],
   "source": [
    "#4\n",
    "two_sided = ttest_1samp(a = chol_hd, popmean=240)\n",
    "p = two_sided[1] / 2\n",
    "print(p)\n",
    "\n",
    "#p < 0.05 this means that hd patients have an average chol\n",
    "#that's higher than 240 mg/dl\n",
    "#higher and not lower was found in #2"
   ]
  },
  {
   "cell_type": "code",
   "execution_count": 8,
   "id": "e61ac2b6",
   "metadata": {},
   "outputs": [
    {
     "name": "stdout",
     "output_type": "stream",
     "text": [
      "242.640243902439\n",
      "0.26397120232220506\n"
     ]
    }
   ],
   "source": [
    "#5\n",
    "chol_no_hd =  no_hd['chol']\n",
    "print(chol_no_hd.mean())\n",
    "two_sided_no_hd = ttest_1samp(a = chol_no_hd, popmean=240)\n",
    "p_no_hd = two_sided_no_hd[1] / 2\n",
    "print(p_no_hd)"
   ]
  },
  {
   "cell_type": "code",
   "execution_count": 9,
   "id": "e8dc2623",
   "metadata": {},
   "outputs": [
    {
     "name": "stdout",
     "output_type": "stream",
     "text": [
      "303\n"
     ]
    }
   ],
   "source": [
    "#6\n",
    "num_patients = len(heart)\n",
    "print(num_patients)"
   ]
  },
  {
   "cell_type": "code",
   "execution_count": 11,
   "id": "03152093",
   "metadata": {},
   "outputs": [
    {
     "name": "stdout",
     "output_type": "stream",
     "text": [
      "45\n"
     ]
    }
   ],
   "source": [
    "#7\n",
    "num_highfbs_patients = len(heart[heart.fbs == 1])\n",
    "print(num_highfbs_patients)"
   ]
  },
  {
   "cell_type": "code",
   "execution_count": 20,
   "id": "f7032ac4",
   "metadata": {},
   "outputs": [
    {
     "name": "stdout",
     "output_type": "stream",
     "text": [
      "24\n"
     ]
    }
   ],
   "source": [
    "#8 Number of people in the sample with diabetes\n",
    "import math\n",
    "print(math.floor(0.08 * len(heart)))"
   ]
  },
  {
   "cell_type": "code",
   "execution_count": 25,
   "id": "f76b6136",
   "metadata": {},
   "outputs": [
    {
     "data": {
      "text/plain": [
       "4.689471951448875e-05"
      ]
     },
     "execution_count": 25,
     "metadata": {},
     "output_type": "execute_result"
    }
   ],
   "source": [
    "#9\n",
    "from scipy.stats import binom_test\n",
    "\n",
    "#x = observed number of successes\n",
    "#p = null probability of success\n",
    "binom_test(x=45, n=len(heart), p=0.08, alternative='greater')"
   ]
  },
  {
   "cell_type": "code",
   "execution_count": 21,
   "id": "c65ab9f2",
   "metadata": {},
   "outputs": [
    {
     "name": "stdout",
     "output_type": "stream",
     "text": [
      "14.85148514851485\n"
     ]
    }
   ],
   "source": [
    "#10 By the way, how much % of 303 is 45 anyway ?\n",
    "print((45/303) * 100)"
   ]
  },
  {
   "cell_type": "code",
   "execution_count": 22,
   "id": "64e7deea",
   "metadata": {},
   "outputs": [],
   "source": [
    "#This is why the null hypothesis was overruled, 14.8% > 8%"
   ]
  },
  {
   "cell_type": "code",
   "execution_count": null,
   "id": "8674e0ba",
   "metadata": {},
   "outputs": [],
   "source": []
  }
 ],
 "metadata": {
  "kernelspec": {
   "display_name": "Python 3 (ipykernel)",
   "language": "python",
   "name": "python3"
  },
  "language_info": {
   "codemirror_mode": {
    "name": "ipython",
    "version": 3
   },
   "file_extension": ".py",
   "mimetype": "text/x-python",
   "name": "python",
   "nbconvert_exporter": "python",
   "pygments_lexer": "ipython3",
   "version": "3.9.0"
  }
 },
 "nbformat": 4,
 "nbformat_minor": 5
}
